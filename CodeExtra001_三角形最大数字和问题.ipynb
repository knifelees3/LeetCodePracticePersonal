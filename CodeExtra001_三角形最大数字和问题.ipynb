{
 "cells": [
  {
   "cell_type": "markdown",
   "source": [
    "# 三角形最大数字和"
   ],
   "metadata": {}
  },
  {
   "cell_type": "markdown",
   "source": [
    "[CSDN](https://blog.csdn.net/baidu_28312631/article/details/47418773)"
   ],
   "metadata": {}
  },
  {
   "cell_type": "markdown",
   "source": [
    "在上面的数字三角形中寻找一条从顶部到底边的路径，使得路径上所经过的数字之和最大。路径上的每一步都只能往左下或 右下走。只需要求出这个最大和即可，不必给出具体路径。 三角形的行数大于1小于等于100，数字为 0 - 99\r\n",
    "输入格式：\r\n",
    "\r\n",
    "    5      //表示三角形的行数    接下来输入三角形\r\n",
    "\r\n",
    "    7\r\n",
    "\r\n",
    "    3   8\r\n",
    "\r\n",
    "    8   1   0\r\n",
    "\r\n",
    "    2   7   4   4\r\n",
    "\r\n",
    "    4   5   2   6   5\r\n",
    "\r\n",
    "要求输出最大和"
   ],
   "metadata": {}
  },
  {
   "cell_type": "markdown",
   "source": [
    "## 递归方法"
   ],
   "metadata": {}
  },
  {
   "cell_type": "markdown",
   "source": [
    "### 标准递归方式"
   ],
   "metadata": {}
  },
  {
   "cell_type": "code",
   "execution_count": 110,
   "source": [
    "import numpy as np\r\n",
    "\r\n",
    "num=10\r\n",
    "tri_mat=np.random.randint(0,100,(10,10)) \r\n",
    "for l in range(num):\r\n",
    "    for m in range(num):\r\n",
    "       if m>l:\r\n",
    "        tri_mat[l,m]=0\r\n",
    "print(tri_mat)"
   ],
   "outputs": [
    {
     "output_type": "stream",
     "name": "stdout",
     "text": [
      "[[74  0  0  0  0  0  0  0  0  0]\n",
      " [ 6 91  0  0  0  0  0  0  0  0]\n",
      " [91 13 17  0  0  0  0  0  0  0]\n",
      " [ 1 48 56  6  0  0  0  0  0  0]\n",
      " [ 9 61 53 96 15  0  0  0  0  0]\n",
      " [51 12 43 16 31 74  0  0  0  0]\n",
      " [92 57 63 52 20 51 24  0  0  0]\n",
      " [78 58 25 59 23 86  8 89  0  0]\n",
      " [51 71 36 83  6 61 50 73  8  0]\n",
      " [17  5 93  4 15  8 73 60 63 97]]\n"
     ]
    }
   ],
   "metadata": {}
  },
  {
   "cell_type": "markdown",
   "source": [
    "首先用递归的方法来做，递归的思想就是我们选择第n次时候，需要用到第n+1次的结果，注意这里是倒推的，因为我们定义f(n,m)为从f(n,m)出发到达所经过的最大数字，用v(n,m)表示具体的路径上面的数字\r\n",
    "$$\r\n",
    "f(n,m)=max(f(n+1,m),f(n+1,m+1))+v(n,m)\r\n",
    "$$"
   ],
   "metadata": {}
  },
  {
   "cell_type": "markdown",
   "source": [
    "这样我们可以写一个简单的递归函数来表述"
   ],
   "metadata": {}
  },
  {
   "cell_type": "code",
   "execution_count": 15,
   "source": [
    "def fun_recursion(n,m,tri_mat):\r\n",
    "    N=tri_mat.shape[0]\r\n",
    "    if n==N-1:\r\n",
    "        return tri_mat[n,m]\r\n",
    "    else:\r\n",
    "        return max(fun_recursion(n+1,m,tri_mat),fun_recursion(n+1,m+1,tri_mat))+tri_mat[n,m]\r\n",
    "\r\n",
    "fun_recursion(1,1,tri_mat)"
   ],
   "outputs": [
    {
     "output_type": "execute_result",
     "data": {
      "text/plain": [
       "636.0"
      ]
     },
     "metadata": {},
     "execution_count": 15
    }
   ],
   "metadata": {}
  },
  {
   "cell_type": "markdown",
   "source": [
    "### 正向递归可以吗？\r\n",
    "我们可以看见，直接求解出来了值，我们可以不可以正着来呢，就是我从第一步出发走到下一步，只求下一步最优的解，这样的式子应该是\r\n",
    "$$\r\n",
    "f(n,m)=max(f(n-1,m),f(n-1,m+1))+v(n,m)\r\n",
    "$$\r\n",
    "即我们每次都走最优的那条路径往下走"
   ],
   "metadata": {}
  },
  {
   "cell_type": "code",
   "execution_count": 42,
   "source": [
    "def fun_recursion_v2(n,m,tri_mat):\r\n",
    "    if n==0:\r\n",
    "        return tri_mat[n,m]\r\n",
    "    else:\r\n",
    "        return max(fun_recursion_v2(n-1,m,tri_mat),fun_recursion_v2(n-1,m-1,tri_mat))+tri_mat[n,m]\r\n",
    "sum_last=np.zeros(num)\r\n",
    "for l in range(num):\r\n",
    "    sum_last[l]=fun_recursion_v2(num-1,l,tri_mat)\r\n",
    "print(sum_last)\r\n",
    "np.max(sum_last)"
   ],
   "outputs": [
    {
     "output_type": "stream",
     "name": "stdout",
     "text": [
      "[483. 541. 611. 722. 770. 739. 665. 594. 623. 542.]\n"
     ]
    },
    {
     "output_type": "execute_result",
     "data": {
      "text/plain": [
       "770.0"
      ]
     },
     "metadata": {},
     "execution_count": 42
    }
   ],
   "metadata": {}
  },
  {
   "cell_type": "markdown",
   "source": [
    "### 枚举算法？"
   ],
   "metadata": {}
  },
  {
   "cell_type": "markdown",
   "source": [
    "答案并不一样，我们需要用穷举的方法来验证。即我们从每一条路径出发，每次层有两种选择，我们把所有层的结果记录下来。然后找出最大值。我们第一步有两种选择方法，第二步有$2\\times2^2$，第三步有$2\\times2^2\\times 2^3$,第N-1步有$2^(1+2+3+..N-1)=2^(n(n-1)/2)$种方法！,这其实很容易内存爆掉，但是我们可以试试小的数组"
   ],
   "metadata": {}
  },
  {
   "cell_type": "code",
   "execution_count": 19,
   "source": [
    "import numpy as np\r\n",
    "\r\n",
    "num=4\r\n",
    "tri_mat=np.array(np.random.randint(0,100,(num,num)),dtype=float)\r\n",
    "for l in range(num):\r\n",
    "    for m in range(num):\r\n",
    "       if m>l:\r\n",
    "        tri_mat[l,m]=np.inf\r\n",
    "print(tri_mat)"
   ],
   "outputs": [
    {
     "output_type": "stream",
     "name": "stdout",
     "text": [
      "[[33. inf inf inf]\n",
      " [94. 33. inf inf]\n",
      " [80.  8. 12. inf]\n",
      " [23. 87. 74. 97.]]\n"
     ]
    }
   ],
   "metadata": {}
  },
  {
   "cell_type": "code",
   "execution_count": 20,
   "source": [
    "sort_mat = np.zeros((num,num),dtype=int)\r\n",
    "for l in range(num):\r\n",
    "    for m in range(l+1):\r\n",
    "        if l==0:\r\n",
    "            sort_mat[l,0]=1\r\n",
    "        elif l==1:\r\n",
    "            sort_mat[l,0]=1\r\n",
    "            sort_mat[l,1]=1\r\n",
    "        else:\r\n",
    "            if m==0 or m==l:\r\n",
    "                sort_mat[l,m]=1\r\n",
    "            else:\r\n",
    "                sort_mat[l,m]=sort_mat[l-1,m-1]+sort_mat[l-1,m]\r\n",
    "print(sort_mat)"
   ],
   "outputs": [
    {
     "output_type": "stream",
     "name": "stdout",
     "text": [
      "[[1 0 0 0]\n",
      " [1 1 0 0]\n",
      " [1 2 1 0]\n",
      " [1 3 3 1]]\n"
     ]
    }
   ],
   "metadata": {}
  },
  {
   "cell_type": "code",
   "execution_count": 21,
   "source": [
    "sort_mat_sum=np.zeros((num,num),dtype=int)\r\n",
    "for l in range(num):\r\n",
    "    for m in range(l+1):\r\n",
    "        sort_mat_sum[l,m]=np.sum(sort_mat[l,0:m+1])\r\n",
    "print(sort_mat_sum)"
   ],
   "outputs": [
    {
     "output_type": "stream",
     "name": "stdout",
     "text": [
      "[[1 0 0 0]\n",
      " [1 2 0 0]\n",
      " [1 3 4 0]\n",
      " [1 4 7 8]]\n"
     ]
    }
   ],
   "metadata": {}
  },
  {
   "cell_type": "markdown",
   "source": [
    "我们这里来进行一下规划，接下里我会用两个矩阵，分别存储上一次和这一次的路径值，然后进行更新"
   ],
   "metadata": {}
  },
  {
   "cell_type": "code",
   "execution_count": 29,
   "source": [
    "steps_I=np.ones((num,2**(num-1)))*np.inf\r\n",
    "steps_II=np.ones((num,2**(num-1)))*np.inf\r\n",
    "det_steps=np.ones((num,2**(num-1)))*np.inf\r\n",
    "for l in range(num):\r\n",
    "    for m in range(l+1):\r\n",
    "        if l==0:\r\n",
    "            steps_II[m,0]=tri_mat[l,0]\r\n",
    "        elif l==1:\r\n",
    "            steps_II[m,0]=tri_mat[l,m]+tri_mat[0,0]\r\n",
    "        else:\r\n",
    "            if m==0:\r\n",
    "                steps_II[m,0]=steps_I[m,0]+tri_mat[l,0]\r\n",
    "            elif m==l:\r\n",
    "                #print(m)\r\n",
    "                steps_II[m,0]=steps_I[m-1,0]+tri_mat[l,0]\r\n",
    "            else:\r\n",
    "                var_1=steps_I[m-1,:]\r\n",
    "                var_2=steps_I[m,:]\r\n",
    "                var_new=np.hstack((var_1[var_1!=np.inf],var_2[var_2!=np.inf]))\r\n",
    "                len_var=np.shape(var_new)[0]\r\n",
    "                steps_II[m,0:len_var]=var_new+tri_mat[l,m]\r\n",
    "    steps_I[:,:]=steps_II\r\n",
    "    print(steps_I[:,0:10])\r\n",
    "    var_new=steps_I[steps_I!=np.inf]\r\n",
    "    len_var=np.shape(var_new)[0]\r\n",
    "    #print(len_var)\r\n",
    "    det_steps[l,0:len_var]=var_new"
   ],
   "outputs": [
    {
     "output_type": "stream",
     "name": "stdout",
     "text": [
      "[[33. inf inf inf inf inf inf inf]\n",
      " [inf inf inf inf inf inf inf inf]\n",
      " [inf inf inf inf inf inf inf inf]\n",
      " [inf inf inf inf inf inf inf inf]]\n",
      "[[127.  inf  inf  inf  inf  inf  inf  inf]\n",
      " [ 66.  inf  inf  inf  inf  inf  inf  inf]\n",
      " [ inf  inf  inf  inf  inf  inf  inf  inf]\n",
      " [ inf  inf  inf  inf  inf  inf  inf  inf]]\n",
      "[[207.  inf  inf  inf  inf  inf  inf  inf]\n",
      " [135.  74.  inf  inf  inf  inf  inf  inf]\n",
      " [146.  inf  inf  inf  inf  inf  inf  inf]\n",
      " [ inf  inf  inf  inf  inf  inf  inf  inf]]\n",
      "[[230.  inf  inf  inf  inf  inf  inf  inf]\n",
      " [294. 222. 161.  inf  inf  inf  inf  inf]\n",
      " [209. 148. 220.  inf  inf  inf  inf  inf]\n",
      " [169.  inf  inf  inf  inf  inf  inf  inf]]\n"
     ]
    }
   ],
   "metadata": {}
  },
  {
   "cell_type": "code",
   "execution_count": 30,
   "source": [
    "print(tri_mat)\r\n",
    "print(det_steps[:,0:10])"
   ],
   "outputs": [
    {
     "output_type": "stream",
     "name": "stdout",
     "text": [
      "[[33. inf inf inf]\n",
      " [94. 33. inf inf]\n",
      " [80.  8. 12. inf]\n",
      " [23. 87. 74. 97.]]\n",
      "[[ 33.  inf  inf  inf  inf  inf  inf  inf]\n",
      " [127.  66.  inf  inf  inf  inf  inf  inf]\n",
      " [207. 135.  74. 146.  inf  inf  inf  inf]\n",
      " [230. 294. 222. 161. 209. 148. 220. 169.]]\n"
     ]
    }
   ],
   "metadata": {}
  },
  {
   "cell_type": "code",
   "execution_count": 32,
   "source": [
    "fun_recursion(0,0,tri_mat)"
   ],
   "outputs": [
    {
     "output_type": "execute_result",
     "data": {
      "text/plain": [
       "294.0"
      ]
     },
     "metadata": {},
     "execution_count": 32
    }
   ],
   "metadata": {}
  },
  {
   "cell_type": "markdown",
   "source": [
    "### 递归的简化 1\r\n",
    "前面我们通过枚举方法证实了我们的方法的准确性，现在我们尝试对这这种递推关系进行优化，将已经计算的结果存下来"
   ],
   "metadata": {}
  },
  {
   "cell_type": "code",
   "execution_count": null,
   "source": [
    "\r\n",
    "def fun_recursion(n,m,tri_mat):\r\n",
    "    dp=np.zeros(np.shape(tri_mat))\r\n",
    "    N=tri_mat.shape[0]\r\n",
    "    for l in range(N-1,-1,-1):\r\n",
    "        if l==N-1:\r\n",
    "            dp[l,:]=tri_mat[l,:]\r\n",
    "        else:\r\n",
    "            for l in range\r\n",
    "    if n==N-1:\r\n",
    "        return tri_mat[n,m]\r\n",
    "    else:\r\n",
    "        return max(fun_recursion(n+1,m,tri_mat),fun_recursion(n+1,m+1,tri_mat))+tri_mat[n,m]\r\n",
    "\r\n",
    "fun_recursion(1,1,tri_mat)"
   ],
   "outputs": [],
   "metadata": {}
  },
  {
   "cell_type": "code",
   "execution_count": 33,
   "source": [
    "for l in range(3,-1,-1):\r\n",
    "    print(l)"
   ],
   "outputs": [
    {
     "output_type": "stream",
     "name": "stdout",
     "text": [
      "3\n",
      "2\n",
      "1\n",
      "0\n"
     ]
    }
   ],
   "metadata": {}
  },
  {
   "cell_type": "markdown",
   "source": [],
   "metadata": {}
  }
 ],
 "metadata": {
  "orig_nbformat": 4,
  "language_info": {
   "name": "python",
   "version": "3.7.2",
   "mimetype": "text/x-python",
   "codemirror_mode": {
    "name": "ipython",
    "version": 3
   },
   "pygments_lexer": "ipython3",
   "nbconvert_exporter": "python",
   "file_extension": ".py"
  },
  "kernelspec": {
   "name": "python3",
   "display_name": "Python 3.7.2 64-bit"
  },
  "interpreter": {
   "hash": "ba17dca2e30766295c72909b392381a7f654ba2f4ced294e5e5c2ec00c153050"
  }
 },
 "nbformat": 4,
 "nbformat_minor": 2
}