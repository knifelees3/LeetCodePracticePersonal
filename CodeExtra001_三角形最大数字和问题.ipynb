{
 "cells": [
  {
   "cell_type": "markdown",
   "source": [
    "# 三角形最大数字和"
   ],
   "metadata": {}
  },
  {
   "cell_type": "markdown",
   "source": [
    "[CSDN](https://blog.csdn.net/baidu_28312631/article/details/47418773)"
   ],
   "metadata": {}
  },
  {
   "cell_type": "markdown",
   "source": [
    "在上面的数字三角形中寻找一条从顶部到底边的路径，使得路径上所经过的数字之和最大。路径上的每一步都只能往左下或 右下走。只需要求出这个最大和即可，不必给出具体路径。 三角形的行数大于1小于等于100，数字为 0 - 99\r\n",
    "输入格式：\r\n",
    "\r\n",
    "    5      //表示三角形的行数    接下来输入三角形\r\n",
    "\r\n",
    "    7\r\n",
    "\r\n",
    "    3   8\r\n",
    "\r\n",
    "    8   1   0\r\n",
    "\r\n",
    "    2   7   4   4\r\n",
    "\r\n",
    "    4   5   2   6   5\r\n",
    "\r\n",
    "要求输出最大和"
   ],
   "metadata": {}
  },
  {
   "cell_type": "markdown",
   "source": [
    "## 递归方法"
   ],
   "metadata": {}
  },
  {
   "cell_type": "markdown",
   "source": [
    "### 标准递归方式"
   ],
   "metadata": {}
  },
  {
   "cell_type": "code",
   "execution_count": 110,
   "source": [
    "import numpy as np\r\n",
    "\r\n",
    "num=10\r\n",
    "tri_mat=np.random.randint(0,100,(10,10)) \r\n",
    "for l in range(num):\r\n",
    "    for m in range(num):\r\n",
    "       if m>l:\r\n",
    "        tri_mat[l,m]=0\r\n",
    "print(tri_mat)"
   ],
   "outputs": [
    {
     "output_type": "stream",
     "name": "stdout",
     "text": [
      "[[74  0  0  0  0  0  0  0  0  0]\n",
      " [ 6 91  0  0  0  0  0  0  0  0]\n",
      " [91 13 17  0  0  0  0  0  0  0]\n",
      " [ 1 48 56  6  0  0  0  0  0  0]\n",
      " [ 9 61 53 96 15  0  0  0  0  0]\n",
      " [51 12 43 16 31 74  0  0  0  0]\n",
      " [92 57 63 52 20 51 24  0  0  0]\n",
      " [78 58 25 59 23 86  8 89  0  0]\n",
      " [51 71 36 83  6 61 50 73  8  0]\n",
      " [17  5 93  4 15  8 73 60 63 97]]\n"
     ]
    }
   ],
   "metadata": {}
  },
  {
   "cell_type": "markdown",
   "source": [
    "首先用递归的方法来做，递归的思想就是我们选择第n次时候，需要用到第n+1次的结果，注意这里是倒推的，因为我们定义f(n,m)为从f(n,m)出发到达所经过的最大数字，用v(n,m)表示具体的路径上面的数字\r\n",
    "$$\r\n",
    "f(n,m)=max(f(n+1,m),f(n+1,m+1))+v(n,m)\r\n",
    "$$"
   ],
   "metadata": {}
  },
  {
   "cell_type": "markdown",
   "source": [
    "这样我们可以写一个简单的递归函数来表述"
   ],
   "metadata": {}
  },
  {
   "cell_type": "code",
   "execution_count": 41,
   "source": [
    "def fun_recursion(n,m,tri_mat):\r\n",
    "    N=tri_mat.shape[0]\r\n",
    "    if n==N-1:\r\n",
    "        return tri_mat[n,m]\r\n",
    "    else:\r\n",
    "        return max(fun_recursion(n+1,m,tri_mat),fun_recursion(n+1,m+1,tri_mat))+tri_mat[n,m]\r\n",
    "\r\n",
    "fun_recursion(1,1,tri_mat)"
   ],
   "outputs": [
    {
     "output_type": "execute_result",
     "data": {
      "text/plain": [
       "735"
      ]
     },
     "metadata": {},
     "execution_count": 41
    }
   ],
   "metadata": {}
  },
  {
   "cell_type": "markdown",
   "source": [
    "### 正向递归可以吗？\r\n",
    "我们可以看见，直接求解出来了值，我们可以不可以正着来呢，就是我从第一步出发走到下一步，只求下一步最优的解，这样的式子应该是\r\n",
    "$$\r\n",
    "f(n,m)=max(f(n-1,m),f(n-1,m+1))+v(n,m)\r\n",
    "$$\r\n",
    "即我们每次都走最优的那条路径往下走"
   ],
   "metadata": {}
  },
  {
   "cell_type": "code",
   "execution_count": 42,
   "source": [
    "def fun_recursion_v2(n,m,tri_mat):\r\n",
    "    if n==0:\r\n",
    "        return tri_mat[n,m]\r\n",
    "    else:\r\n",
    "        return max(fun_recursion_v2(n-1,m,tri_mat),fun_recursion_v2(n-1,m-1,tri_mat))+tri_mat[n,m]\r\n",
    "sum_last=np.zeros(num)\r\n",
    "for l in range(num):\r\n",
    "    sum_last[l]=fun_recursion_v2(num-1,l,tri_mat)\r\n",
    "print(sum_last)\r\n",
    "np.max(sum_last)"
   ],
   "outputs": [
    {
     "output_type": "stream",
     "name": "stdout",
     "text": [
      "[483. 541. 611. 722. 770. 739. 665. 594. 623. 542.]\n"
     ]
    },
    {
     "output_type": "execute_result",
     "data": {
      "text/plain": [
       "770.0"
      ]
     },
     "metadata": {},
     "execution_count": 42
    }
   ],
   "metadata": {}
  },
  {
   "cell_type": "markdown",
   "source": [
    "### 枚举算法？"
   ],
   "metadata": {}
  },
  {
   "cell_type": "markdown",
   "source": [
    "答案并不一样，我们需要用穷举的方法来验证。即我们从每一条路径出发，每次层有两种选择，我们把所有层的结果记录下来。然后找出最大值。我们第一步有两种选择方法，第二步有$2\\times2^2$，第三步有$2\\times2^2\\times 2^3$,第N-1步有$2^(1+2+3+..N-1)=2^(n(n-1)/2)$种方法！,这其实很容易内存爆掉，但是我们可以试试小的数组"
   ],
   "metadata": {}
  },
  {
   "cell_type": "code",
   "execution_count": 131,
   "source": [
    "import numpy as np\r\n",
    "\r\n",
    "num=10\r\n",
    "tri_mat=np.array(np.random.randint(0,100,(10,10)),dtype=float)\r\n",
    "for l in range(num):\r\n",
    "    for m in range(num):\r\n",
    "       if m>l:\r\n",
    "        tri_mat[l,m]=np.inf\r\n",
    "print(tri_mat)"
   ],
   "outputs": [
    {
     "output_type": "stream",
     "name": "stdout",
     "text": [
      "[[91. inf inf inf inf inf inf inf inf inf]\n",
      " [61. 77. inf inf inf inf inf inf inf inf]\n",
      " [10.  2. 72. inf inf inf inf inf inf inf]\n",
      " [68. 44. 83. 62. inf inf inf inf inf inf]\n",
      " [80. 66. 27. 22. 96. inf inf inf inf inf]\n",
      " [34. 64. 61. 59.  6.  0. inf inf inf inf]\n",
      " [ 2. 78. 56. 40. 53. 50. 85. inf inf inf]\n",
      " [44. 64. 39.  1. 78. 85.  3. 66. inf inf]\n",
      " [23. 34. 93. 26. 42.  0. 46. 13. 90. inf]\n",
      " [46. 10. 48. 60. 33.  1. 53. 99.  3.  1.]]\n"
     ]
    }
   ],
   "metadata": {}
  },
  {
   "cell_type": "code",
   "execution_count": null,
   "source": [
    "sort_mat = np.zeros((num,num),dtype=int)\r\n",
    "for l in range(num):\r\n",
    "    for m in range(l+1):\r\n",
    "        if l==0:\r\n",
    "            sort_mat[l,0]=1\r\n",
    "        elif l==1:\r\n",
    "            sort_mat[l,0]=1\r\n",
    "            sort_mat[l,1]=1\r\n",
    "        else:\r\n",
    "            if m==0 or m==l:\r\n",
    "                sort_mat[l,m]=1\r\n",
    "            else:\r\n",
    "                sort_mat[l,m]=sort_mat[l-1,m-1]+sort_mat[l-1,m]\r\n",
    "print(sort_mat)"
   ],
   "outputs": [],
   "metadata": {}
  },
  {
   "cell_type": "code",
   "execution_count": null,
   "source": [
    "sort_mat_sum=np.zeros((num,num),dtype=int)\r\n",
    "for l in range(num):\r\n",
    "    for m in range(l+1):\r\n",
    "        sort_mat_sum[l,m]=np.sum(sort_mat[l,0:m+1])\r\n",
    "print(sort_mat_sum)"
   ],
   "outputs": [],
   "metadata": {}
  },
  {
   "cell_type": "markdown",
   "source": [
    "我们这里来进行一下规划，接下里我会用两个矩阵，分别存储上一次和这一次的路径值，然后进行更新"
   ],
   "metadata": {}
  },
  {
   "cell_type": "code",
   "execution_count": 139,
   "source": [
    "steps_I=np.ones((num,2**(num-1)))*np.inf\r\n",
    "steps_II=np.ones((num,2**(num-1)))*np.inf\r\n",
    "det_steps=np.ones((num,2**(num-1)))*np.inf\r\n",
    "for l in range(num):\r\n",
    "    for m in range(l+1):\r\n",
    "        if l==0:\r\n",
    "            steps_I[m,0]=tri_mat[l,0]\r\n",
    "            steps_II[:,:]=steps_I[:,:]\r\n",
    "        elif l==1:\r\n",
    "            steps_I[m,0]=tri_mat[m,0]+tri_mat[0,0]\r\n",
    "            steps_II[:,:]=steps_I[:,:]\r\n",
    "        else:\r\n",
    "            if m==0:\r\n",
    "                steps_II[m,0]=steps_I[m,0]+tri_mat[l,0]\r\n",
    "            elif m==l:\r\n",
    "                print(m)\r\n",
    "                steps_II[m,0]=steps_I[m-1,0]+tri_mat[l,0]\r\n",
    "                steps_I[:,:]=steps_II[:,:]\r\n",
    "            else:\r\n",
    "                var_1=steps_I[m-1,:]\r\n",
    "                var_2=steps_I[m,:]\r\n",
    "                var_new=np.hstack((var_1[var_1!=np.inf],var_2[var_2!=np.inf]))\r\n",
    "                len_var=np.shape(var_new)[0]\r\n",
    "                steps_II[m,0:len_var]=var_new+tri_mat[l,m]\r\n",
    "                steps_I[:,:]=steps_II[:,:]\r\n",
    "    print(steps_I[:,0:10])\r\n",
    "    var_new=steps_I[steps_I!=np.inf]\r\n",
    "    len_var=np.shape(var_new)[0]\r\n",
    "    #print(len_var)\r\n",
    "    det_steps[l,0:len_var]=var_new"
   ],
   "outputs": [
    {
     "output_type": "stream",
     "name": "stdout",
     "text": [
      "[[91. inf inf inf inf inf inf inf inf inf]\n",
      " [inf inf inf inf inf inf inf inf inf inf]\n",
      " [inf inf inf inf inf inf inf inf inf inf]\n",
      " [inf inf inf inf inf inf inf inf inf inf]\n",
      " [inf inf inf inf inf inf inf inf inf inf]\n",
      " [inf inf inf inf inf inf inf inf inf inf]\n",
      " [inf inf inf inf inf inf inf inf inf inf]\n",
      " [inf inf inf inf inf inf inf inf inf inf]\n",
      " [inf inf inf inf inf inf inf inf inf inf]\n",
      " [inf inf inf inf inf inf inf inf inf inf]]\n",
      "[[182.  inf  inf  inf  inf  inf  inf  inf  inf  inf]\n",
      " [152.  inf  inf  inf  inf  inf  inf  inf  inf  inf]\n",
      " [ inf  inf  inf  inf  inf  inf  inf  inf  inf  inf]\n",
      " [ inf  inf  inf  inf  inf  inf  inf  inf  inf  inf]\n",
      " [ inf  inf  inf  inf  inf  inf  inf  inf  inf  inf]\n",
      " [ inf  inf  inf  inf  inf  inf  inf  inf  inf  inf]\n",
      " [ inf  inf  inf  inf  inf  inf  inf  inf  inf  inf]\n",
      " [ inf  inf  inf  inf  inf  inf  inf  inf  inf  inf]\n",
      " [ inf  inf  inf  inf  inf  inf  inf  inf  inf  inf]\n",
      " [ inf  inf  inf  inf  inf  inf  inf  inf  inf  inf]]\n",
      "2\n",
      "[[192.  inf  inf  inf  inf  inf  inf  inf  inf  inf]\n",
      " [184. 154.  inf  inf  inf  inf  inf  inf  inf  inf]\n",
      " [194.  inf  inf  inf  inf  inf  inf  inf  inf  inf]\n",
      " [ inf  inf  inf  inf  inf  inf  inf  inf  inf  inf]\n",
      " [ inf  inf  inf  inf  inf  inf  inf  inf  inf  inf]\n",
      " [ inf  inf  inf  inf  inf  inf  inf  inf  inf  inf]\n",
      " [ inf  inf  inf  inf  inf  inf  inf  inf  inf  inf]\n",
      " [ inf  inf  inf  inf  inf  inf  inf  inf  inf  inf]\n",
      " [ inf  inf  inf  inf  inf  inf  inf  inf  inf  inf]\n",
      " [ inf  inf  inf  inf  inf  inf  inf  inf  inf  inf]]\n",
      "3\n",
      "[[260.  inf  inf  inf  inf  inf  inf  inf  inf  inf]\n",
      " [236. 228. 198.  inf  inf  inf  inf  inf  inf  inf]\n",
      " [319. 311. 281. 277.  inf  inf  inf  inf  inf  inf]\n",
      " [387.  inf  inf  inf  inf  inf  inf  inf  inf  inf]\n",
      " [ inf  inf  inf  inf  inf  inf  inf  inf  inf  inf]\n",
      " [ inf  inf  inf  inf  inf  inf  inf  inf  inf  inf]\n",
      " [ inf  inf  inf  inf  inf  inf  inf  inf  inf  inf]\n",
      " [ inf  inf  inf  inf  inf  inf  inf  inf  inf  inf]\n",
      " [ inf  inf  inf  inf  inf  inf  inf  inf  inf  inf]\n",
      " [ inf  inf  inf  inf  inf  inf  inf  inf  inf  inf]]\n",
      "4\n",
      "[[340.  inf  inf  inf  inf  inf  inf  inf  inf  inf]\n",
      " [326. 302. 294. 264.  inf  inf  inf  inf  inf  inf]\n",
      " [353. 329. 321. 291. 346. 338. 308. 304.  inf  inf]\n",
      " [375. 351. 343. 313. 368. 360. 330. 326. 409.  inf]\n",
      " [455.  inf  inf  inf  inf  inf  inf  inf  inf  inf]\n",
      " [ inf  inf  inf  inf  inf  inf  inf  inf  inf  inf]\n",
      " [ inf  inf  inf  inf  inf  inf  inf  inf  inf  inf]\n",
      " [ inf  inf  inf  inf  inf  inf  inf  inf  inf  inf]\n",
      " [ inf  inf  inf  inf  inf  inf  inf  inf  inf  inf]\n",
      " [ inf  inf  inf  inf  inf  inf  inf  inf  inf  inf]]\n",
      "5\n",
      "[[374.  inf  inf  inf  inf  inf  inf  inf  inf  inf]\n",
      " [404. 390. 366. 358. 328.  inf  inf  inf  inf  inf]\n",
      " [465. 451. 427. 419. 389. 414. 390. 382. 352. 407.]\n",
      " [524. 510. 486. 478. 448. 473. 449. 441. 411. 466.]\n",
      " [530. 516. 492. 484. 454. 479. 455. 447. 417. 472.]\n",
      " [564.  inf  inf  inf  inf  inf  inf  inf  inf  inf]\n",
      " [ inf  inf  inf  inf  inf  inf  inf  inf  inf  inf]\n",
      " [ inf  inf  inf  inf  inf  inf  inf  inf  inf  inf]\n",
      " [ inf  inf  inf  inf  inf  inf  inf  inf  inf  inf]\n",
      " [ inf  inf  inf  inf  inf  inf  inf  inf  inf  inf]]\n",
      "6\n",
      "[[376.  inf  inf  inf  inf  inf  inf  inf  inf  inf]\n",
      " [452. 482. 468. 444. 436. 406.  inf  inf  inf  inf]\n",
      " [508. 538. 524. 500. 492. 462. 521. 507. 483. 475.]\n",
      " [548. 578. 564. 540. 532. 502. 561. 547. 523. 515.]\n",
      " [601. 631. 617. 593. 585. 555. 614. 600. 576. 568.]\n",
      " [651. 681. 667. 643. 635. 605. 664. 650. 626. 618.]\n",
      " [653.  inf  inf  inf  inf  inf  inf  inf  inf  inf]\n",
      " [ inf  inf  inf  inf  inf  inf  inf  inf  inf  inf]\n",
      " [ inf  inf  inf  inf  inf  inf  inf  inf  inf  inf]\n",
      " [ inf  inf  inf  inf  inf  inf  inf  inf  inf  inf]]\n",
      "7\n",
      "[[420.  inf  inf  inf  inf  inf  inf  inf  inf  inf]\n",
      " [440. 516. 546. 532. 508. 500. 470.  inf  inf  inf]\n",
      " [479. 555. 585. 571. 547. 539. 509. 547. 577. 563.]\n",
      " [480. 556. 586. 572. 548. 540. 510. 548. 578. 564.]\n",
      " [558. 634. 664. 650. 626. 618. 588. 626. 656. 642.]\n",
      " [643. 719. 749. 735. 711. 703. 673. 711. 741. 727.]\n",
      " [646. 722. 752. 738. 714. 706. 676. 714. 744. 730.]\n",
      " [690.  inf  inf  inf  inf  inf  inf  inf  inf  inf]\n",
      " [ inf  inf  inf  inf  inf  inf  inf  inf  inf  inf]\n",
      " [ inf  inf  inf  inf  inf  inf  inf  inf  inf  inf]]\n"
     ]
    },
    {
     "output_type": "error",
     "ename": "ValueError",
     "evalue": "could not broadcast input array from shape (626,) into shape (512,)",
     "traceback": [
      "\u001b[1;31m---------------------------------------------------------------------------\u001b[0m",
      "\u001b[1;31mValueError\u001b[0m                                Traceback (most recent call last)",
      "\u001b[1;32m~\\AppData\\Local\\Temp/ipykernel_14416/1681640425.py\u001b[0m in \u001b[0;36m<module>\u001b[1;34m\u001b[0m\n\u001b[0;32m     28\u001b[0m     \u001b[0mlen_var\u001b[0m\u001b[1;33m=\u001b[0m\u001b[0mnp\u001b[0m\u001b[1;33m.\u001b[0m\u001b[0mshape\u001b[0m\u001b[1;33m(\u001b[0m\u001b[0mvar_new\u001b[0m\u001b[1;33m)\u001b[0m\u001b[1;33m[\u001b[0m\u001b[1;36m0\u001b[0m\u001b[1;33m]\u001b[0m\u001b[1;33m\u001b[0m\u001b[1;33m\u001b[0m\u001b[0m\n\u001b[0;32m     29\u001b[0m     \u001b[1;31m#print(len_var)\u001b[0m\u001b[1;33m\u001b[0m\u001b[1;33m\u001b[0m\u001b[1;33m\u001b[0m\u001b[0m\n\u001b[1;32m---> 30\u001b[1;33m     \u001b[0mdet_steps\u001b[0m\u001b[1;33m[\u001b[0m\u001b[0ml\u001b[0m\u001b[1;33m,\u001b[0m\u001b[1;36m0\u001b[0m\u001b[1;33m:\u001b[0m\u001b[0mlen_var\u001b[0m\u001b[1;33m]\u001b[0m\u001b[1;33m=\u001b[0m\u001b[0mvar_new\u001b[0m\u001b[1;33m\u001b[0m\u001b[1;33m\u001b[0m\u001b[0m\n\u001b[0m",
      "\u001b[1;31mValueError\u001b[0m: could not broadcast input array from shape (626,) into shape (512,)"
     ]
    }
   ],
   "metadata": {}
  },
  {
   "cell_type": "markdown",
   "source": [],
   "metadata": {}
  },
  {
   "cell_type": "code",
   "execution_count": 116,
   "source": [
    "a=np.array([[1,2,3,4,np.inf,np.inf],[1,2,3,4,np.inf,np.inf]])\r\n",
    "a[a!=np.inf]"
   ],
   "outputs": [
    {
     "output_type": "execute_result",
     "data": {
      "text/plain": [
       "array([1., 2., 3., 4., 1., 2., 3., 4.])"
      ]
     },
     "metadata": {},
     "execution_count": 116
    }
   ],
   "metadata": {}
  },
  {
   "cell_type": "code",
   "execution_count": null,
   "source": [],
   "outputs": [],
   "metadata": {}
  }
 ],
 "metadata": {
  "orig_nbformat": 4,
  "language_info": {
   "name": "python",
   "version": "3.8.10",
   "mimetype": "text/x-python",
   "codemirror_mode": {
    "name": "ipython",
    "version": 3
   },
   "pygments_lexer": "ipython3",
   "nbconvert_exporter": "python",
   "file_extension": ".py"
  },
  "kernelspec": {
   "name": "python3",
   "display_name": "Python 3.8.10 64-bit ('base': conda)"
  },
  "interpreter": {
   "hash": "0eeb4fc2ff3e63b5077f080b775c7b910063efc07ed52889701a4f6b3e78408d"
  }
 },
 "nbformat": 4,
 "nbformat_minor": 2
}