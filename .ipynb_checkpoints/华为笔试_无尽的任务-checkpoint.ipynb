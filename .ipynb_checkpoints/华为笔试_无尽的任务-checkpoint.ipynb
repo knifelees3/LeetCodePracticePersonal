{
 "cells": [
  {
   "cell_type": "markdown",
   "id": "bb428d02",
   "metadata": {},
   "source": [
    "# 华为笔试 无尽的任务"
   ]
  },
  {
   "cell_type": "markdown",
   "id": "200666a4",
   "metadata": {},
   "source": [
    "## 题目1：无尽的任务\n",
    "\n",
    "小杰在工作中有很多任务，为了保持高效，小杰在同一时间内只处理一项任务。在当前交付周期里，有n个任务（1<=n<=1000）,每个任务的价值为vi(1<=vi<=1000)，需要完成的时间为（1<=ti<10000）,最后期限为di(1<=di<=1000),超过最后期限完成则产生不了任何价值，球，求小杰能输出的最大价值是多少。\n",
    "**解答要求**：\n",
    "时间限制：C/C++ 1000ms,其他语言：2000ms\n",
    "内存限制：C/C++ 256MB,其他语言：512MB\n",
    "\n",
    "### 样例 1\n",
    "\n",
    "#### 输入\n",
    "\n",
    "```bash\n",
    "3\n",
    "3 3 10\n",
    "1 1 10\n",
    "10 10 10\n",
    "```\n",
    "#### 输出\n",
    "\n",
    "```bash\n",
    "10\n",
    "```\n",
    "#### 解释：\n",
    "\n",
    "前两个任务价值和才6，第三个是10，如果选择前两个任务的任何一个，那就完成不了第三个任务。所以只要选择第三个任务去完成，就可以获取最大的任务价值。\n",
    "\n",
    "### 样例2\n",
    "\n",
    "#### 输入\n",
    "\n",
    "```bash\n",
    "3\n",
    "6 5 4\n",
    "5 1 5\n",
    "5 5 10\n",
    "```\n",
    "\n",
    "#### 输出\n",
    "\n",
    "```bash\n",
    "10\n",
    "```\n",
    "\n",
    "#### 解释\n",
    "\n",
    "结果是选择第一个和第三个任务。选择第一个任务花了5个单位的时间，第二个任务需要在期限5以前完成，所以选择不了，只能再选择第三个任务。"
   ]
  },
  {
   "cell_type": "markdown",
   "id": "f6438a0f",
   "metadata": {},
   "source": [
    "## 穷举方法"
   ]
  },
  {
   "cell_type": "markdown",
   "id": "c91861b2",
   "metadata": {
    "ExecuteTime": {
     "end_time": "2021-08-07T09:46:56.514328Z",
     "start_time": "2021-08-07T09:46:56.507320Z"
    }
   },
   "source": [
    "我首先写一个穷举的方法，这可以作为接下来一些算法的验证程序。"
   ]
  },
  {
   "cell_type": "code",
   "execution_count": 35,
   "id": "4048f3c7",
   "metadata": {
    "ExecuteTime": {
     "end_time": "2021-08-07T13:33:17.113330Z",
     "start_time": "2021-08-07T13:33:17.097371Z"
    }
   },
   "outputs": [
    {
     "name": "stdout",
     "output_type": "stream",
     "text": [
      "[8 8 9 9 3]\n",
      "[4 1 4 1 2]\n",
      "[5 5 7 6 7]\n"
     ]
    }
   ],
   "source": [
    "import numpy as np\n",
    "num=5\n",
    "value=np.random.randint(0,10,num)\n",
    "time_take=np.random.randint(1,5,num)\n",
    "time_dead=np.random.randint(5,10,num)\n",
    "print(value)\n",
    "print(time_take)\n",
    "print(time_dead)"
   ]
  },
  {
   "cell_type": "code",
   "execution_count": 36,
   "id": "1085763f",
   "metadata": {
    "ExecuteTime": {
     "end_time": "2021-08-07T13:33:24.343419Z",
     "start_time": "2021-08-07T13:33:24.322448Z"
    }
   },
   "outputs": [
    {
     "name": "stdout",
     "output_type": "stream",
     "text": [
      "[ 0.  1.  4.  5.  1.  2.  5.  6.  2.  3.  6.  7.  3.  4.  7. inf]\n",
      "[ 0.  8.  9. 17.  9. 17. 18. 26.  3. 11. 12. 20. 12. 20. 21. inf]\n"
     ]
    }
   ],
   "source": [
    "steps_value=np.ones((num,2**(num-1)))*np.inf\n",
    "steps_time=np.ones((num,2**(num-1)))*np.inf\n",
    "choice=[False,True]\n",
    "for l in range(num):\n",
    "        if l==0:\n",
    "            steps_time[l,0]=time_take[0]*0\n",
    "            steps_value[l,0]=value[0]*0\n",
    "            steps_time[l,1]=time_take[0]\n",
    "            steps_value[l,1]=value[0]\n",
    "        else:\n",
    "            steps_value[l,0:2**(l-1)]=steps_value[l-1,0:2**(l-1)]\n",
    "            steps_value[l,2**(l-1):2**l]=steps_value[l-1,0:2**(l-1)]+value[l]\n",
    "            steps_time[l,0:2**(l-1)]=steps_time[l-1,0:2**(l-1)]\n",
    "            steps_time[l,2**(l-1):2**l]=steps_time[l-1,0:2**(l-1)]+time_take[l]\n",
    "            steps_value[l,steps_time[l,:]>time_dead[l]]=np.inf\n",
    "            steps_time[l,steps_time[l,:]>time_dead[l]]=np.inf\n",
    "print(steps_time[-1,:])\n",
    "print(steps_value[-1,:])"
   ]
  }
 ],
 "metadata": {
  "kernelspec": {
   "display_name": "Python 3 (ipykernel)",
   "language": "python",
   "name": "python3"
  },
  "language_info": {
   "codemirror_mode": {
    "name": "ipython",
    "version": 3
   },
   "file_extension": ".py",
   "mimetype": "text/x-python",
   "name": "python",
   "nbconvert_exporter": "python",
   "pygments_lexer": "ipython3",
   "version": "3.8.10"
  },
  "toc": {
   "base_numbering": 1,
   "nav_menu": {},
   "number_sections": true,
   "sideBar": true,
   "skip_h1_title": false,
   "title_cell": "Table of Contents",
   "title_sidebar": "Contents",
   "toc_cell": false,
   "toc_position": {},
   "toc_section_display": true,
   "toc_window_display": false
  },
  "varInspector": {
   "cols": {
    "lenName": 16,
    "lenType": 16,
    "lenVar": 40
   },
   "kernels_config": {
    "python": {
     "delete_cmd_postfix": "",
     "delete_cmd_prefix": "del ",
     "library": "var_list.py",
     "varRefreshCmd": "print(var_dic_list())"
    },
    "r": {
     "delete_cmd_postfix": ") ",
     "delete_cmd_prefix": "rm(",
     "library": "var_list.r",
     "varRefreshCmd": "cat(var_dic_list()) "
    }
   },
   "types_to_exclude": [
    "module",
    "function",
    "builtin_function_or_method",
    "instance",
    "_Feature"
   ],
   "window_display": false
  }
 },
 "nbformat": 4,
 "nbformat_minor": 5
}
