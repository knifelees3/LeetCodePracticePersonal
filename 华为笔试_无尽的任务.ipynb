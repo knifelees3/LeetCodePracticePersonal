{
 "cells": [
  {
   "cell_type": "markdown",
   "metadata": {},
   "source": [
    "# 华为笔试 无尽的任务"
   ]
  },
  {
   "cell_type": "markdown",
   "metadata": {},
   "source": [
    "## 题目1：无尽的任务\n",
    "\n",
    "小杰在工作中有很多任务，为了保持高效，小杰在同一时间内只处理一项任务。在当前交付周期里，有n个任务（1<=n<=1000）,每个任务的价值为vi(1<=vi<=1000)，需要完成的时间为（1<=ti<10000）,最后期限为di(1<=di<=1000),超过最后期限完成则产生不了任何价值，球，求小杰能输出的最大价值是多少。\n",
    "**解答要求**：\n",
    "时间限制：C/C++ 1000ms,其他语言：2000ms\n",
    "内存限制：C/C++ 256MB,其他语言：512MB\n",
    "\n",
    "### 样例 1\n",
    "\n",
    "#### 输入\n",
    "\n",
    "```bash\n",
    "3\n",
    "3 3 10\n",
    "1 1 10\n",
    "10 10 10\n",
    "```\n",
    "#### 输出\n",
    "\n",
    "```bash\n",
    "10\n",
    "```\n",
    "#### 解释：\n",
    "\n",
    "前两个任务价值和才6，第三个是10，如果选择前两个任务的任何一个，那就完成不了第三个任务。所以只要选择第三个任务去完成，就可以获取最大的任务价值。\n",
    "\n",
    "### 样例2\n",
    "\n",
    "#### 输入\n",
    "\n",
    "```bash\n",
    "3\n",
    "6 5 4\n",
    "5 1 5\n",
    "5 5 10\n",
    "```\n",
    "\n",
    "#### 输出\n",
    "\n",
    "```bash\n",
    "10\n",
    "```\n",
    "\n",
    "#### 解释\n",
    "\n",
    "结果是选择第一个和第三个任务。选择第一个任务花了5个单位的时间，第二个任务需要在期限5以前完成，所以选择不了，只能再选择第三个任务。"
   ]
  },
  {
   "cell_type": "markdown",
   "metadata": {},
   "source": [
    "## 穷举方法"
   ]
  },
  {
   "cell_type": "markdown",
   "metadata": {
    "ExecuteTime": {
     "end_time": "2021-08-07T09:46:56.514328Z",
     "start_time": "2021-08-07T09:46:56.507320Z"
    }
   },
   "source": [
    "我首先写一个穷举的方法，这可以作为接下来一些算法的验证程序。"
   ]
  },
  {
   "cell_type": "code",
   "execution_count": 192,
   "metadata": {
    "ExecuteTime": {
     "end_time": "2021-08-08T14:03:44.488962Z",
     "start_time": "2021-08-08T14:03:44.481960Z"
    }
   },
   "outputs": [
    {
     "name": "stdout",
     "output_type": "stream",
     "text": [
      "[8 5 9 7 9]\n",
      "[2 4 1 4 4]\n",
      "[8 8 7 8 5]\n"
     ]
    }
   ],
   "source": [
    "import numpy as np\n",
    "num=5\n",
    "value=np.random.randint(1,10,num)\n",
    "time_take=np.random.randint(1,5,num)\n",
    "time_dead=np.random.randint(5,10,num)\n",
    "print(value)\n",
    "print(time_take)\n",
    "print(time_dead)"
   ]
  },
  {
   "cell_type": "code",
   "execution_count": 193,
   "metadata": {
    "ExecuteTime": {
     "end_time": "2021-08-08T14:03:46.648642Z",
     "start_time": "2021-08-08T14:03:46.622640Z"
    }
   },
   "outputs": [
    {
     "name": "stdout",
     "output_type": "stream",
     "text": [
      "24.0\n"
     ]
    }
   ],
   "source": [
    "dead_max=np.max(time_dead)\n",
    "steps_value=np.ones((num,2**(num)))*np.inf\n",
    "steps_time=np.ones((num,2**(num)))*np.inf\n",
    "choice=np.zeros((num,2**(num)))\n",
    "tmp_time_full=np.ones(2**(num))*dead_max\n",
    "tmp_value_full=np.ones(2**(num))*np.inf\n",
    "for l in range(num):\n",
    "        if l==0:\n",
    "            steps_time[l,0]=time_take[0]*0\n",
    "            steps_value[l,0]=value[0]*0\n",
    "            steps_time[l,1]=time_take[0]\n",
    "            steps_value[l,1]=value[0]\n",
    "        else:\n",
    "            steps_value[l,0:2**(l)]=steps_value[l-1,0:2**(l)]\n",
    "            steps_time[l,0:2**(l)]=steps_time[l-1,0:2**(l)]\n",
    "            tmp_time=np.hstack((steps_time[l-1,0:2**(l)]+dead_max,steps_time[l-1,0:2**(l)]+time_take[l]))\n",
    "            tmp_time_full[0:2**(l+1)]=tmp_time\n",
    "            tmp_value=np.hstack((steps_value[l-1,0:2**(l)],steps_value[l-1,0:2**(l)]))\n",
    "            tmp_value_full[0:2**(l+1)]=tmp_value\n",
    "            #print(tmp_value_full)\n",
    "            #print(tmp_time_full<time_dead[l])\n",
    "            steps_value[l,tmp_time_full<=time_dead[l]]= tmp_value_full[tmp_time_full<=time_dead[l]]+value[l]\n",
    "            steps_time[l,tmp_time_full<=time_dead[l]]= tmp_time_full[tmp_time_full<=time_dead[l]]\n",
    "            choice[l,2**(l):2**(l+1)]=1\n",
    "            #print(tmp_time<time_dead[l])\n",
    "            #print(steps_value[l,:]);\n",
    "tmp=steps_value[-1,:]\n",
    "tmp[steps_value[-1,:]==np.inf]=0\n",
    "print(np.max(tmp))"
   ]
  },
  {
   "cell_type": "code",
   "execution_count": null,
   "metadata": {},
   "outputs": [],
   "source": [
    "np.ones()"
   ]
  },
  {
   "cell_type": "markdown",
   "metadata": {},
   "source": [
    "## 递推法"
   ]
  },
  {
   "cell_type": "markdown",
   "metadata": {},
   "source": [
    "现在来考虑一下采用递推的方式来做，我们考虑接了一个任务之后，如果这个任务的时间加上前面的已经接了任务的时间，没有超过该任务的截止时间，那么就可以接该任务，还是写出递推关系\n",
    "\n",
    "$$\n",
    "F(n,m)=max(F(n-1,m),F(n-1,m-w(n))+v(n))\n",
    "$$\n",
    "\n",
    "其中$F(n,m)$表示前n个任务中，一共的价值，总重量为m"
   ]
  },
  {
   "cell_type": "markdown",
   "metadata": {},
   "source": [
    "## 二维数组来实现"
   ]
  },
  {
   "cell_type": "code",
   "execution_count": 203,
   "metadata": {
    "ExecuteTime": {
     "end_time": "2021-08-08T14:08:36.919081Z",
     "start_time": "2021-08-08T14:08:36.899096Z"
    }
   },
   "outputs": [
    {
     "data": {
      "text/plain": [
       "22.0"
      ]
     },
     "execution_count": 203,
     "metadata": {},
     "output_type": "execute_result"
    }
   ],
   "source": [
    "dead_max=np.max(time_dead)\n",
    "time_rec=np.zeros((num+1,dead_max))\n",
    "dp=np.zeros((num+1,dead_max))\n",
    "for l in range(1,num+1):\n",
    "    for m in range(dead_max):\n",
    "        if m>=time_take[l-1] and (time_rec[l-1,m]<=time_dead[l-1] or time_rec[l-1,m-time_take[l-1]]+time_take[l-1]<=time_dead[l-1]):\n",
    "            dp[l,m]=max(dp[l-1,m],dp[l-1,m-time_take[l-1]]+value[l-1])\n",
    "            if dp[l-1,m]>=dp[l-1,m-time_take[l-1]]+value[l-1]:\n",
    "                time_rec[l,m]=time_rec[l-1,m]\n",
    "            else:\n",
    "                time_rec[l,m]=time_rec[l-1,m-time_take[l-1]]+time_take[l-1]\n",
    "dp[-1,-1]"
   ]
  },
  {
   "cell_type": "code",
   "execution_count": 186,
   "metadata": {
    "ExecuteTime": {
     "end_time": "2021-08-08T14:02:09.840296Z",
     "start_time": "2021-08-08T14:02:09.833293Z"
    }
   },
   "outputs": [
    {
     "name": "stdout",
     "output_type": "stream",
     "text": [
      "[[0. 0. 0. 0. 0. 0. 0. 0. 0.]\n",
      " [0. 1. 1. 1. 1. 1. 1. 1. 1.]\n",
      " [0. 1. 2. 2. 2. 2. 2. 2. 2.]\n",
      " [0. 0. 0. 0. 4. 5. 6. 6. 6.]\n",
      " [0. 0. 0. 0. 4. 5. 6. 6. 8.]\n",
      " [0. 0. 2. 2. 4. 5. 6. 6. 8.]]\n",
      "[[ 0.  0.  0.  0.  0.  0.  0.  0.  0.]\n",
      " [ 0.  2.  2.  2.  2.  2.  2.  2.  2.]\n",
      " [ 0.  2.  3.  3.  3.  3.  3.  3.  3.]\n",
      " [ 0.  0.  0.  0.  7.  9. 10. 10. 10.]\n",
      " [ 0.  0.  0.  0.  9.  9. 10. 10. 16.]\n",
      " [ 0.  0.  1.  1.  9.  9. 10. 10. 16.]]\n"
     ]
    }
   ],
   "source": [
    "print(time_rec)\n",
    "print(dp)"
   ]
  },
  {
   "cell_type": "markdown",
   "metadata": {},
   "source": [
    "## 一维数组来实现"
   ]
  },
  {
   "cell_type": "code",
   "execution_count": 204,
   "metadata": {
    "ExecuteTime": {
     "end_time": "2021-08-08T14:09:33.505539Z",
     "start_time": "2021-08-08T14:09:33.495537Z"
    }
   },
   "outputs": [
    {
     "data": {
      "text/plain": [
       "26.0"
      ]
     },
     "execution_count": 204,
     "metadata": {},
     "output_type": "execute_result"
    }
   ],
   "source": [
    "dead_max=np.max(time_dead)\n",
    "dp=np.zeros((dead_max))\n",
    "for l in range(num):\n",
    "    for m in range(dead_max-1,0,-1):\n",
    "        if m>=time_take[l]:\n",
    "            dp[m]=max(dp[m],dp[m-time_take[l]]+value[l])\n",
    "dp[-1]"
   ]
  }
 ],
 "metadata": {
  "kernelspec": {
   "display_name": "Python 3",
   "language": "python",
   "name": "python3"
  },
  "language_info": {
   "codemirror_mode": {
    "name": "ipython",
    "version": 3
   },
   "file_extension": ".py",
   "mimetype": "text/x-python",
   "name": "python",
   "nbconvert_exporter": "python",
   "pygments_lexer": "ipython3",
   "version": "3.7.2"
  },
  "toc": {
   "base_numbering": 1,
   "nav_menu": {},
   "number_sections": true,
   "sideBar": true,
   "skip_h1_title": false,
   "title_cell": "Table of Contents",
   "title_sidebar": "Contents",
   "toc_cell": false,
   "toc_position": {},
   "toc_section_display": true,
   "toc_window_display": false
  },
  "varInspector": {
   "cols": {
    "lenName": 16,
    "lenType": 16,
    "lenVar": 40
   },
   "kernels_config": {
    "python": {
     "delete_cmd_postfix": "",
     "delete_cmd_prefix": "del ",
     "library": "var_list.py",
     "varRefreshCmd": "print(var_dic_list())"
    },
    "r": {
     "delete_cmd_postfix": ") ",
     "delete_cmd_prefix": "rm(",
     "library": "var_list.r",
     "varRefreshCmd": "cat(var_dic_list()) "
    }
   },
   "types_to_exclude": [
    "module",
    "function",
    "builtin_function_or_method",
    "instance",
    "_Feature"
   ],
   "window_display": false
  }
 },
 "nbformat": 4,
 "nbformat_minor": 5
}
