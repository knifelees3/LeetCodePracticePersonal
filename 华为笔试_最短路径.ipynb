{
 "cells": [
  {
   "cell_type": "markdown",
   "metadata": {},
   "source": [
    "# 最短路径"
   ]
  },
  {
   "cell_type": "markdown",
   "metadata": {},
   "source": [
    "## 题目2：开门次数\n",
    "\n",
    "小明家有座超级大房子，有很多房间，用数字编号，房间之间有门，门打开后会自动关上，使用空格分隔的房间号roomJ,roomK，代表了roomJ和roomk之间有门，可以来回。假如小明身处房间roomA,需要去往指定房间roomB，请给出最少需要开几次门才能到达。\n",
    "\n",
    "**解答要求**：\n",
    "时间限制：C/C++ 1000ms,其他语言：2000ms\n",
    "内存限制：C/C++ 32MB,其他语言：64MB\n",
    "\n",
    "#### 输入\n",
    "\n",
    "第一行是当前所处房间roomA.\n",
    "\n",
    "第二行是目的地房间号roomB.\n",
    "\n",
    "第三行是门的数量N.\n",
    "\n",
    "第四行开始的N行，是使用空格分隔的两个房间号，代表一扇门。\n",
    "\n",
    "说明：\n",
    "\n",
    "1<=门的数量<=100\n",
    "\n",
    "房间号为int数字\n",
    "\n",
    "#### 输出\n",
    "\n",
    "最少开门次数\n",
    "\n",
    "### 样例1\n",
    "\n",
    "#### 输入\n",
    "\n",
    "```bash\n",
    "1\n",
    "5\n",
    "5\n",
    "1 2\n",
    "2 3\n",
    "3 4\n",
    "2 5\n",
    "4 5\n",
    "```\n",
    "\n",
    "#### 输出\n",
    "\n",
    "```bash\n",
    "2\n",
    "```\n",
    "\n",
    "解释：小明从房间1到房间2，房间2到房间5，最少开两次门就可以达到。\n",
    "\n",
    "**提示**\n",
    "\n",
    "题目确保有解。\n"
   ]
  },
  {
   "cell_type": "markdown",
   "metadata": {},
   "source": [
    "## BFS实现"
   ]
  },
  {
   "cell_type": "markdown",
   "metadata": {},
   "source": [
    "### dijkstra算法实现"
   ]
  },
  {
   "cell_type": "code",
   "execution_count": 1,
   "metadata": {
    "ExecuteTime": {
     "end_time": "2021-08-08T14:59:59.238905Z",
     "start_time": "2021-08-08T14:59:59.227908Z"
    }
   },
   "outputs": [
    {
     "name": "stdout",
     "output_type": "stream",
     "text": [
      "[inf, inf, inf, inf, inf, inf]\n"
     ]
    }
   ],
   "source": [
    "# %%\n",
    "import sys\n",
    "\n",
    "# roomA = int(sys.stdin.readline().strip())\n",
    "# roomB = int(sys.stdin.readline().strip())\n",
    "\n",
    "# # 图中的顶点数\n",
    "# V = int(sys.stdin.readline().strip())\n",
    "roomA=1\n",
    "roomB=5\n",
    "V=5\n",
    "\n",
    "# 标记数组：used[v]值为False说明改顶点还没有访问过，在S中，否则在U中！\n",
    "used = [False for _ in range(V+1)]\n",
    "# 距离数组：distance[i]表示从源点s到ｉ的最短距离，distance[s]=0\n",
    "distance = [float('inf') for _ in range(V+1)]\n",
    "# cost[u][v]表示边e=(u,v)的权值，不存在时设为INF\n",
    "cost = [[float('inf') for _ in range(V+1)] for _ in range(V+1)]\n",
    "cost[1][2]=1\n",
    "cost[2][3]=1\n",
    "cost[3][4]=1\n",
    "cost[2][5]=1\n",
    "cost[4][5]=1\n",
    "print(distance)"
   ]
  },
  {
   "cell_type": "code",
   "execution_count": null,
   "metadata": {},
   "outputs": [],
   "source": [
    "# for _ in range(V):\n",
    "#         v, u = list(map(int, input().split()))\n",
    "#         cost[v][u] = 1\n",
    "#         cost[u][v] = 1\n",
    "\n",
    "# %%\n",
    "def dijkstra(s):\n",
    "    distance[s] = 0\n",
    "    print[d]\n",
    "    while True:\n",
    "        # v在这里相当于是一个哨兵，对包含起点s做统一处理！\n",
    "        v = -1\n",
    "        # 从未使用过的顶点中选择一个距离最小的顶点\n",
    "        for u in range(V+1):\n",
    "            if not used[u] and (v == -1 or distance[u] < distance[v]):\n",
    "                v = u\n",
    "        if v == -1:\n",
    "            # 说明所有顶点都维护到S中了！\n",
    "            break\n",
    "\n",
    "        # 将选定的顶点加入到S中, 同时进行距离更新\n",
    "        used[v] = True\n",
    "        # 更新U中各个顶点到起点s的距离。之所以更新U中顶点的距离，是由于上一步中确定了k是求出最短路径的顶点，从而可以利用k来更新其它顶点的距离；例如，(s,v)的距离可能大于(s,k)+(k,v)的距离。\n",
    "        for u in range(V+1):\n",
    "            distance[u] = min(distance[u], distance[v] + cost[v][u])\n",
    "\n",
    "\n",
    "dijkstra(roomA)\n",
    "print(roomB)\n",
    "##\n",
    "# %%"
   ]
  }
 ],
 "metadata": {
  "kernelspec": {
   "display_name": "Python 3.7.2 64-bit",
   "language": "python",
   "name": "python37264bit11efc31016174d95a63a7aa6bcdd4318"
  },
  "language_info": {
   "codemirror_mode": {
    "name": "ipython",
    "version": 3
   },
   "file_extension": ".py",
   "mimetype": "text/x-python",
   "name": "python",
   "nbconvert_exporter": "python",
   "pygments_lexer": "ipython3",
   "version": "3.7.2"
  },
  "toc": {
   "base_numbering": 1,
   "nav_menu": {},
   "number_sections": true,
   "sideBar": true,
   "skip_h1_title": false,
   "title_cell": "Table of Contents",
   "title_sidebar": "Contents",
   "toc_cell": false,
   "toc_position": {},
   "toc_section_display": true,
   "toc_window_display": false
  },
  "varInspector": {
   "cols": {
    "lenName": 16,
    "lenType": 16,
    "lenVar": 40
   },
   "kernels_config": {
    "python": {
     "delete_cmd_postfix": "",
     "delete_cmd_prefix": "del ",
     "library": "var_list.py",
     "varRefreshCmd": "print(var_dic_list())"
    },
    "r": {
     "delete_cmd_postfix": ") ",
     "delete_cmd_prefix": "rm(",
     "library": "var_list.r",
     "varRefreshCmd": "cat(var_dic_list()) "
    }
   },
   "types_to_exclude": [
    "module",
    "function",
    "builtin_function_or_method",
    "instance",
    "_Feature"
   ],
   "window_display": false
  }
 },
 "nbformat": 4,
 "nbformat_minor": 2
}
